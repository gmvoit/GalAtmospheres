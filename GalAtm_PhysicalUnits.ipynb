{
 "cells": [
  {
   "cell_type": "code",
   "execution_count": 35,
   "metadata": {},
   "outputs": [],
   "source": [
    "# import libraries\n",
    "import numpy as np\n",
    "import matplotlib.pyplot as plt\n",
    "%matplotlib inline\n",
    "import seaborn as sns\n",
    "import scipy.integrate as integrate\n",
    "import scipy.special as special\n",
    "import math\n",
    "from matplotlib.colors import ListedColormap"
   ]
  },
  {
   "cell_type": "code",
   "execution_count": 36,
   "metadata": {},
   "outputs": [],
   "source": [
    "def Tb(rb = 250, Mb = 1e12*1.989e+30): # mass is in solar masses\n",
    "    k = 1.38e-23*(3.24078e-20)**2 # boltzmann constant in W/(kpc^2*K)\n",
    "    mmp = 1.0e-27 # mean mass per particle\n",
    "    G = 6.67e-11*(1/3.24078e-20)**3 #kpc^3/kg/s^2\n",
    "    vc = (G*Mb/rb)**(1/2)\n",
    "    T = mmp*vc**2/(2*k)\n",
    "    return T"
   ]
  },
  {
   "cell_type": "code",
   "execution_count": 37,
   "metadata": {},
   "outputs": [],
   "source": [
    "def T_phi_iso(r, rb = 250, **kwargs):\n",
    "    return r/r "
   ]
  },
  {
   "cell_type": "code",
   "execution_count": 38,
   "metadata": {},
   "outputs": [],
   "source": [
    "#define new function\n",
    "# other functions include T_phi_iso\n",
    "def T_phi_nfw(r,rb = 250, c = 10, **kwargs):\n",
    "    rs = rb/c # c is dimensionless\n",
    "    x = c*r\n",
    "    M_nfw_b = math.log(1+c) - c/(1+c)\n",
    "    M_nfw = np.array(x)\n",
    "    for i in range(0,len(x)):\n",
    "        M_nfw[i] = math.log(1+x[i])-x[i]/(1+x[i])\n",
    "    # f_Tx = math.log(1+x)/x - 1/(1+x) which is basically M_nfw/x\n",
    "    # f_Tc = math.log(1+c)/c - 1/(1+c)\n",
    "    # f_T is prop to M_nfw/r is prop to Tphi\n",
    "    # T_phi = T_phi(rb)*f_Tx/f_Tc\n",
    "    return (M_nfw/r)/(M_nfw_b/rb) "
   ]
  },
  {
   "cell_type": "code",
   "execution_count": 44,
   "metadata": {},
   "outputs": [],
   "source": [
    "def Tb_mass(rb = 250, Mb = 1e12, **kwargs): # unit management\n",
    "    G = 6.67e-11*(1/3.24078e-20)**3 #kpc^3/kg/s^2\n",
    "    k = 1.38e-23*(3.24078e-20)**2 # boltzmann constant in W/(kpc^2*K)\n",
    "    H0 = 70*(1000)*(3.24078e-20) #kpc/s/Mpc\n",
    "    Hz = H0 # could be a parameter\n",
    "    mmp = 1.0e-27 # mean mass per particle\n",
    "    Mb = 4*np.pi*rb**3/3*200*3*Hz**2/(8*np.pi*G) # rearange for rb\n",
    "    Tphi = G*Mb*mmp/(2*k*rb) # k is boltzmann's constant, rb?\n",
    "    # for milky way solar masses, temp should be 10^6K\n",
    "    return Tphi"
   ]
  },
  {
   "cell_type": "code",
   "execution_count": 45,
   "metadata": {},
   "outputs": [],
   "source": [
    "from ipywidgets import interact,interact_manual\n",
    "\n",
    "def integral_function(K0 = 0.0, pwr = 4/3, T_phi = T_phi_nfw, Tb = Tb_mass, **kwargs):\n",
    "    # constants\n",
    "    n = 1000 # number of intervals\n",
    "    rb = 250 #kpc\n",
    "    rmin = 0.01*rb\n",
    "    rmax = rb\n",
    "    Krb = 1 #K0 + K1\n",
    "    K1 = Krb - K0\n",
    "\n",
    "    ln_rmin = math.log(rmin)\n",
    "    ln_r = np.zeros((n))\n",
    "\n",
    "    for i in range(0, n):\n",
    "        ln_r[i] = ln_rmin+i/(n-1)*math.log(rmax/rmin)\n",
    "    ln_r\n",
    "    r = np.exp(ln_r)\n",
    "\n",
    "    dln_r = math.log(rmax/rmin)/(n-1)\n",
    "    K = K1*(r/rb)**pwr + K0 # K(r)\n",
    "    \n",
    "    # function for Tphi - define Tphi as code function outside\n",
    "    Tphi = T_phi(r)\n",
    "    Tb = Tb(rb = rb)\n",
    "        \n",
    "    d_dlnr = -4/5*Tphi/(K**(3/5)) \n",
    "\n",
    "    # initialize arrays\n",
    "    Ti_Ki = np.zeros((n))\n",
    "    \n",
    "    \n",
    "    Ti_Ki[-1] =  4/(3*pwr)*Tphi[-1]*Tb # Tb/Krb**(3/5)\n",
    "    print(Ti_Ki[-1])\n",
    "    for j in range(1,n):\n",
    "        i = n-j\n",
    "\n",
    "\n",
    "        Ti_Ki[i-1] = Ti_Ki[i] - d_dlnr[i]*dln_r\n",
    "\n",
    "    Tr = Ti_Ki*(K**(3/5))\n",
    "\n",
    "    sns.set()\n",
    "\n",
    "    cmap1 = ListedColormap(sns.color_palette(\"ch:s=.25,rot=-.25\"))\n",
    "    cmap2 = ListedColormap(sns.color_palette(\"ch:s=-.2,r=.6\"))\n",
    "    \n",
    "    colors = np.linspace(Tr[0],Tr[-1],len(Tr))\n",
    "    plt.scatter(r,Tr, c = colors, cmap=cmap1)\n",
    "    plt.scatter(r,Tphi, c = colors, cmap=cmap2)\n",
    "    #plt.ylim(0,6e8)\n",
    "    plt.colorbar()\n",
    "    #plt.show()\n",
    "    plt.xlabel('ln_r')\n",
    "\n",
    "    plt.ylabel('Tr')\n",
    "    \n",
    "    # I DID IT IM PROUD\n",
    "    \n",
    "    #if np.any(Tr) < 2 :\n",
    "    #    plt.ylim((0,2)) \n",
    "        \n",
    "\n",
    "    sns.set_context('notebook')"
   ]
  },
  {
   "cell_type": "code",
   "execution_count": 46,
   "metadata": {},
   "outputs": [
    {
     "data": {
      "application/vnd.jupyter.widget-view+json": {
       "model_id": "caccaf09865f42ed8cb25cb7e4804f6b",
       "version_major": 2,
       "version_minor": 0
      },
      "text/plain": [
       "interactive(children=(FloatSlider(value=0.0, description='K0', max=1.0, step=0.01), FloatSlider(value=1.333333…"
      ]
     },
     "metadata": {},
     "output_type": "display_data"
    }
   ],
   "source": [
    "interact(integral_function, K0=(0.0,1, .01), pwr=(0.01,2,0.01), T_phi = [(\"NFW\", T_phi_nfw), (\"ISO\", T_phi_iso)], Tb = [(\"MASS\", Tb_mass)]);"
   ]
  },
  {
   "cell_type": "code",
   "execution_count": null,
   "metadata": {},
   "outputs": [],
   "source": []
  }
 ],
 "metadata": {
  "kernelspec": {
   "display_name": "Python 3",
   "language": "python",
   "name": "python3"
  },
  "language_info": {
   "codemirror_mode": {
    "name": "ipython",
    "version": 3
   },
   "file_extension": ".py",
   "mimetype": "text/x-python",
   "name": "python",
   "nbconvert_exporter": "python",
   "pygments_lexer": "ipython3",
   "version": "3.8.3"
  }
 },
 "nbformat": 4,
 "nbformat_minor": 4
}
