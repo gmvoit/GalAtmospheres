{
 "cells": [
  {
   "cell_type": "code",
   "execution_count": 1,
   "metadata": {},
   "outputs": [],
   "source": [
    "# import libraries\n",
    "import numpy as np\n",
    "import matplotlib.pyplot as plt\n",
    "%matplotlib inline\n",
    "import seaborn as sns\n",
    "import scipy.integrate as integrate\n",
    "import scipy.special as special\n",
    "import math\n",
    "from matplotlib.colors import ListedColormap"
   ]
  },
  {
   "cell_type": "code",
   "execution_count": 6,
   "metadata": {},
   "outputs": [],
   "source": [
    "def T_phi_iso():\n",
    "    pass"
   ]
  },
  {
   "cell_type": "code",
   "execution_count": 7,
   "metadata": {},
   "outputs": [],
   "source": [
    "#define new function\n",
    "# other functions include T_phi_iso\n",
    "def T_phi_nfw(r,rb = 1, c = 10, **kwargs):\n",
    "    rs = rb/c\n",
    "    x = c*r\n",
    "    M_nfw_b = math.log(1+c) - c/(1+c)\n",
    "    M_nfw = np.array(x)\n",
    "    for i in range(0,len(x)):\n",
    "        M_nfw[i] = math.log(1+x[i])-x[i]/(1+x[i])\n",
    "    # f_Tx = math.log(1+x)/x - 1/(1+x) which is basically M_nfw/x\n",
    "    # f_Tc = math.log(1+c)/c - 1/(1+c)\n",
    "    # f_T is prop to M_nfw/r is prop to Tphi\n",
    "    # T_phi = T_phi(rb)*f_Tx/f_Tc\n",
    "    return (M_nfw/r)/(M_nfw_b/rb)"
   ]
  },
  {
   "cell_type": "code",
   "execution_count": 13,
   "metadata": {},
   "outputs": [],
   "source": [
    "def T_phi_mass(Mb = 1e12):\n",
    "    G = 6.67e-11 \n",
    "    H0 = 70 #km/s/Mpc\n",
    "    Hz = H0\n",
    "    Mb = 4*np.pi*rb**3/3*200*3*Hz**2/(8*np.pi*G)\n",
    "    Tphi = G*Mb*mmp/(2*k*rb)\n",
    "    pass"
   ]
  },
  {
   "cell_type": "code",
   "execution_count": 8,
   "metadata": {},
   "outputs": [],
   "source": [
    "from ipywidgets import interact,interact_manual\n",
    "\n",
    "def integral_function(K0 = 0.0, pwr = 4/3, Tb = 1, T_phi = T_phi_nfw, **kwargs):\n",
    "    # constants\n",
    "    n = 100 # number of intervals\n",
    "    rmin = 0.01\n",
    "    rb = 1\n",
    "    rmax = rb\n",
    "    Krb = 1 #K0 + K1\n",
    "    K1 = Krb - K0\n",
    "\n",
    "    ln_rmin = math.log(rmin)\n",
    "    ln_r = np.zeros((n))\n",
    "\n",
    "    for i in range(0, n):\n",
    "        ln_r[i] = ln_rmin+i/(n-1)*math.log(rmax/rmin)\n",
    "    ln_r\n",
    "    r = np.exp(ln_r)\n",
    "\n",
    "    dln_r = math.log(rmax/rmin)/(n-1)\n",
    "    K = K1*(r/rb)**pwr + K0 # K(r)\n",
    "    \n",
    "    # function for Tphi - define Tphi as code function outside\n",
    "    Tphi = T_phi(r)\n",
    "    Tb = np.max(T_phi(r))\n",
    "        \n",
    "    d_dlnr = -4/5*Tphi/(K**(3/5)) \n",
    "\n",
    "    # initialize arrays\n",
    "    Ti_Ki = np.zeros((n))\n",
    "    \n",
    "    \n",
    "    Ti_Ki[-1] = Tb/Krb**(3/5) #4/(3*pwr)*Tphi[-1] # \n",
    "    print(Ti_Ki[-1])\n",
    "    for j in range(1,n):\n",
    "        i = n-j\n",
    "\n",
    "\n",
    "        Ti_Ki[i-1] = Ti_Ki[i] - d_dlnr[i]*dln_r\n",
    "\n",
    "    Tr = Ti_Ki*(K**(3/5))\n",
    "\n",
    "    sns.set()\n",
    "\n",
    "    cmap1 = ListedColormap(sns.color_palette(\"ch:s=.25,rot=-.25\"))\n",
    "    cmap2 = ListedColormap(sns.color_palette(\"ch:s=-.2,r=.6\"))\n",
    "    \n",
    "    colors = np.linspace(Tr[0],Tr[-1],len(Tr))\n",
    "    plt.scatter(ln_r,Tr, c = colors, cmap=cmap1)\n",
    "    plt.scatter(ln_r,Tphi, c = colors, cmap=cmap2)\n",
    "    \n",
    "    plt.colorbar()\n",
    "    #plt.show()\n",
    "    plt.xlabel('ln_r')\n",
    "\n",
    "    plt.ylabel('Tr')\n",
    "    \n",
    "    # I DID IT IM PROUD\n",
    "    \n",
    "    #if np.any(Tr) < 2 :\n",
    "    #    plt.ylim((0,2)) \n",
    "        \n",
    "\n",
    "    sns.set_context('notebook')"
   ]
  },
  {
   "cell_type": "code",
   "execution_count": 14,
   "metadata": {},
   "outputs": [
    {
     "data": {
      "application/vnd.jupyter.widget-view+json": {
       "model_id": "ad33661c00a44414841f2b1e84a71fcb",
       "version_major": 2,
       "version_minor": 0
      },
      "text/plain": [
       "interactive(children=(FloatSlider(value=0.0, description='K0', max=1.0, step=0.01), FloatSlider(value=1.333333…"
      ]
     },
     "metadata": {},
     "output_type": "display_data"
    }
   ],
   "source": [
    "interact(integral_function, K0=(0.0,1, .01), pwr=(0.01,2,0.01), Tb=(0.01,2, 0.01), T_phi = [(\"NFW\", T_phi_nfw), (\"ISO\", T_phi_iso), (\"MASS\", T_phi_mass)]);"
   ]
  },
  {
   "cell_type": "code",
   "execution_count": null,
   "metadata": {},
   "outputs": [],
   "source": []
  }
 ],
 "metadata": {
  "kernelspec": {
   "display_name": "Python 3",
   "language": "python",
   "name": "python3"
  },
  "language_info": {
   "codemirror_mode": {
    "name": "ipython",
    "version": 3
   },
   "file_extension": ".py",
   "mimetype": "text/x-python",
   "name": "python",
   "nbconvert_exporter": "python",
   "pygments_lexer": "ipython3",
   "version": "3.8.3"
  }
 },
 "nbformat": 4,
 "nbformat_minor": 4
}
