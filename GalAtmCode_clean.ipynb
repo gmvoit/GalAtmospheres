{
 "cells": [
  {
   "cell_type": "code",
   "execution_count": 1,
   "id": "d61e5b75",
   "metadata": {},
   "outputs": [],
   "source": [
    "# import libraries\n",
    "import numpy as np\n",
    "import matplotlib.pyplot as plt\n",
    "%matplotlib inline\n",
    "import seaborn as sns\n",
    "import scipy.integrate as integrate\n",
    "import scipy.special as special\n",
    "import math"
   ]
  },
  {
   "cell_type": "code",
   "execution_count": 2,
   "id": "8ddf44f4",
   "metadata": {},
   "outputs": [],
   "source": [
    "#define new function\n",
    "# other functions include T_phi_iso\n",
    "def T_phi_nfw(r,rb = 1, c = 10):\n",
    "    rs = rb/c\n",
    "    x = c*r\n",
    "    M_nfw_b = math.log(1+c) - c/(1+c)\n",
    "    M_nfw = np.array(x)\n",
    "    for i in range(0,len(x)-1):\n",
    "        M_nfw[i] = math.log(1+x[i])-x[i]/(1+x[i])\n",
    "    # f_Tx = math.log(1+x)/x - 1/(1+x) which is basically M_nfw/x\n",
    "    # f_Tc = math.log(1+c)/c - 1/(1+c)\n",
    "    # f_T is prop to M_nfw/r is prop to Tphi\n",
    "    # T_phi = T_phi(rb)*f_Tx/f_Tc\n",
    "    return (M_nfw/r)/(M_nfw_b/rb)"
   ]
  },
  {
   "cell_type": "code",
   "execution_count": 3,
   "id": "b55047f8",
   "metadata": {},
   "outputs": [],
   "source": [
    "from ipywidgets import interact,interact_manual\n",
    "\n",
    "def integral_function(const = 0.0, pwr = 4/3):\n",
    "    # constants\n",
    "    n = 100 # number of intervals\n",
    "    rmin = 0.01\n",
    "    rb = 1\n",
    "    rmax = rb\n",
    "    Krb = 1\n",
    "\n",
    "    ln_rmin = math.log(rmin)\n",
    "    ln_r = np.zeros((n))\n",
    "\n",
    "    for i in range(0, n):\n",
    "        ln_r[i] = ln_rmin+i/(n-1)*math.log(rmax/rmin)\n",
    "    ln_r\n",
    "    r = np.exp(ln_r)\n",
    "\n",
    "    dln_r = math.log(rmax/rmin)/(n-1)\n",
    "    K = Krb*(r/rb)**pwr + const # K(r)\n",
    "    \n",
    "    # function for Tphi - define Tphi as code function outside\n",
    "    Tphi = T_phi_nfw(r)\n",
    "    #print(Tphi)\n",
    "    Tb = 1\n",
    "        \n",
    "    d_dlnr = -4/5*Tphi/(K**(3/5)) # r or ln_r in T_phi?\n",
    "\n",
    "    # initialize arrays\n",
    "    Ti_Ki = np.zeros((n))\n",
    "    \n",
    "    \n",
    "    Ti_Ki[-1] = 4/(3*pwr)*Tphi[-1]\n",
    "    for j in range(1,n):\n",
    "        i = n-j\n",
    "\n",
    "\n",
    "        Ti_Ki[i-1] = Ti_Ki[i] - d_dlnr[i]*dln_r\n",
    "\n",
    "    Tr = Ti_Ki*(K**(3/5))\n",
    "\n",
    "    sns.set()\n",
    "\n",
    "    plt.scatter(ln_r,Tr)\n",
    "    plt.scatter(ln_r,Tphi, c='red')\n",
    "    plt.scatter(ln_r,Tphi*r)\n",
    "    plt.xlabel('ln_r')\n",
    "\n",
    "    plt.ylabel('Tr')\n",
    "    \n",
    "    # I DID IT IM PROUD\n",
    "    if Tr[-1] < 1.5e30 :\n",
    "        plt.ylim((0,3)) \n",
    "        \n",
    "    sns.set_context('notebook')"
   ]
  },
  {
   "cell_type": "code",
   "execution_count": 4,
   "id": "19128db1",
   "metadata": {},
   "outputs": [
    {
     "data": {
      "application/vnd.jupyter.widget-view+json": {
       "model_id": "fff199b3457d4680a1779b926b547083",
       "version_major": 2,
       "version_minor": 0
      },
      "text/plain": [
       "interactive(children=(FloatSlider(value=0.0, description='const', max=10.0), FloatSlider(value=1.3333333333333…"
      ]
     },
     "metadata": {},
     "output_type": "display_data"
    }
   ],
   "source": [
    "interact(integral_function, const=(0.0,10), pwr=(0.01,2));"
   ]
  },
  {
   "cell_type": "code",
   "execution_count": null,
   "id": "311a6290",
   "metadata": {},
   "outputs": [],
   "source": []
  }
 ],
 "metadata": {
  "kernelspec": {
   "display_name": "Python 3",
   "language": "python",
   "name": "python3"
  },
  "language_info": {
   "codemirror_mode": {
    "name": "ipython",
    "version": 3
   },
   "file_extension": ".py",
   "mimetype": "text/x-python",
   "name": "python",
   "nbconvert_exporter": "python",
   "pygments_lexer": "ipython3",
   "version": "3.8.8"
  }
 },
 "nbformat": 4,
 "nbformat_minor": 5
}
