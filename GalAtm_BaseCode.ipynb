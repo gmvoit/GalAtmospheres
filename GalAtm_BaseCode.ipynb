{
 "cells": [
  {
   "cell_type": "code",
   "execution_count": 1,
   "metadata": {},
   "outputs": [],
   "source": [
    "# import libraries\n",
    "import numpy as np\n",
    "import matplotlib.pyplot as plt\n",
    "%matplotlib inline\n",
    "import seaborn as sns\n",
    "import scipy.integrate as integrate\n",
    "import scipy.special as special\n",
    "import math\n",
    "from matplotlib.colors import ListedColormap"
   ]
  },
  {
   "cell_type": "code",
   "execution_count": 2,
   "metadata": {},
   "outputs": [],
   "source": [
    "# Tphi for nfw potential\n",
    "def T_phi_nfw_pot(r,rb = 1, c = 10, **kwargs):\n",
    "    # defining variables\n",
    "    rs = rb/c\n",
    "    M_nfw_b = math.log(1+c) - c/(1+c)\n",
    "    # create x array of shape and proportional to r\n",
    "    x = c*r\n",
    "    # create array with with shape of x\n",
    "    M_nfw = np.array(x)\n",
    "    # assign value to each element in M_nfw\n",
    "    for i in range(0,len(x)):\n",
    "        M_nfw[i] = math.log(1+x[i])-x[i]/(1+x[i])\n",
    "    # assigning variable name\n",
    "    new = (M_nfw/r)/(M_nfw_b/rb)\n",
    "    # find maximum value\n",
    "    maxM = np.max((M_nfw/r)/(M_nfw_b/rb))\n",
    "    # if the value reaches the max, the function is kept at max\n",
    "    for i in reversed(range(len(new))):\n",
    "        if new[i-1] < new[i] :\n",
    "            # reassign element values\n",
    "            new[i-1] = new[i]\n",
    "    # return adjusted array\n",
    "    return new"
   ]
  },
  {
   "cell_type": "code",
   "execution_count": 3,
   "metadata": {},
   "outputs": [],
   "source": [
    "# Tphi for nfw profile\n",
    "def T_phi_nfw(r,rb = 1, c = 10, **kwargs):\n",
    "    rs = rb/c\n",
    "    x = c*r\n",
    "    M_nfw_b = math.log(1+c) - c/(1+c)\n",
    "    M_nfw = np.array(x)\n",
    "    for i in range(0,len(x)):\n",
    "        M_nfw[i] = math.log(1+x[i])-x[i]/(1+x[i])\n",
    "    # f_Tx = math.log(1+x)/x - 1/(1+x) which is basically M_nfw/x\n",
    "    # f_Tc = math.log(1+c)/c - 1/(1+c)\n",
    "    # f_T is prop to M_nfw/r is prop to Tphi\n",
    "    # T_phi = T_phi(rb)*f_Tx/f_Tc\n",
    "    return (M_nfw/r)/(M_nfw_b/rb)"
   ]
  },
  {
   "cell_type": "code",
   "execution_count": 14,
   "metadata": {},
   "outputs": [],
   "source": [
    "# imports the necessary library/modules for the graph with sliders\n",
    "from ipywidgets import interact,interact_manual\n",
    "\n",
    "# integration\n",
    "def integral_function(K0 = 0.0, pwr = 4/3, T_phi = T_phi_nfw, **kwargs):\n",
    "    # constants\n",
    "    n = 1000 # number of intervals\n",
    "    rmin = 0.01\n",
    "    rb = 1\n",
    "    rmax = rb\n",
    "    Krb = 1 #K0 + K1\n",
    "    K1 = Krb - K0\n",
    "    \n",
    "\n",
    "    ln_rmin = math.log(rmin)\n",
    "    ln_r = np.zeros((n))\n",
    "\n",
    "    for i in range(0, n):\n",
    "        ln_r[i] = ln_rmin+i/(n-1)*math.log(rmax/rmin)\n",
    "    ln_r\n",
    "    r = np.exp(ln_r)\n",
    "\n",
    "    dln_r = math.log(rmax/rmin)/(n-1)\n",
    "    K = K1*(r/rb)**pwr + K0 # K(r)\n",
    "    \n",
    "    # defines Tphi based on default/selection\n",
    "    Tphi = T_phi(r)\n",
    "    Tb = np.max(T_phi(r))\n",
    "        \n",
    "    d_dlnr = -4/5*Tphi/(K**(3/5)) \n",
    "\n",
    "    # initialize arrays\n",
    "    Ti_Ki = np.zeros((n))\n",
    "    \n",
    "    # This is where the issue was\n",
    "    Ti_Ki[-1] = 4/(3*pwr)*Tphi[-1]   #Tb/Krb**(3/5)\n",
    "    print(Ti_Ki[-1])\n",
    "    for j in range(1,n):\n",
    "        i = n-j\n",
    "\n",
    "\n",
    "        Ti_Ki[i-1] = Ti_Ki[i] - d_dlnr[i]*dln_r\n",
    "\n",
    "    Tr = Ti_Ki*(K**(3/5))\n",
    "\n",
    "    sns.set()\n",
    "\n",
    "    cmap1 = 'PiYG' #ListedColormap(sns.color_palette(\"ch:s=.25,rot=-.25\"))\n",
    "    cmap2 = 'cool' #ListedColormap(sns.color_palette(\"ch:s=-.2,r=.6\"))\n",
    "    \n",
    "    colors = np.linspace(Tr[0],Tr[-1],len(Tr))\n",
    "    colors2 = np.linspace(Tphi[0],Tphi[-1],len(Tphi))\n",
    "    # change\n",
    "    plt.scatter(r,Tr, c = colors, cmap=cmap1, label = 'Tr')\n",
    "    plt.scatter(r,Tphi, c = colors2, cmap=cmap2, label = 'Tphi')\n",
    "    plt.semilogx()\n",
    "    plt.legend()\n",
    "    \n",
    "    plt.colorbar()\n",
    "    #plt.show()\n",
    "    plt.xlabel('ln_r')\n",
    "\n",
    "    plt.ylabel('Tr')\n",
    "    \n",
    "    # I DID IT IM PROUD\n",
    "    \n",
    "    #if np.any(Tr) < 2 :\n",
    "    #    plt.ylim((0,2)) \n",
    "        \n",
    "\n",
    "    sns.set_context('notebook')"
   ]
  },
  {
   "cell_type": "code",
   "execution_count": 15,
   "metadata": {},
   "outputs": [
    {
     "data": {
      "application/vnd.jupyter.widget-view+json": {
       "model_id": "f199ef69528b42c0bb87c64cd8d923cf",
       "version_major": 2,
       "version_minor": 0
      },
      "text/plain": [
       "interactive(children=(FloatSlider(value=0.0, description='K0', max=1.0, step=0.01), FloatSlider(value=1.333333…"
      ]
     },
     "metadata": {},
     "output_type": "display_data"
    }
   ],
   "source": [
    "interact(integral_function, K0=(0.0,1, .01), pwr=(0.01,2,0.01), Tb=(0.01,2, 0.01), T_phi = [(\"NFW\", T_phi_nfw), (\"NFW Potential\", T_phi_nfw_pot)]);\n"
   ]
  },
  {
   "cell_type": "markdown",
   "metadata": {},
   "source": [
    "**Geneva Archer**"
   ]
  },
  {
   "cell_type": "code",
   "execution_count": null,
   "metadata": {},
   "outputs": [],
   "source": []
  }
 ],
 "metadata": {
  "kernelspec": {
   "display_name": "Python 3",
   "language": "python",
   "name": "python3"
  },
  "language_info": {
   "codemirror_mode": {
    "name": "ipython",
    "version": 3
   },
   "file_extension": ".py",
   "mimetype": "text/x-python",
   "name": "python",
   "nbconvert_exporter": "python",
   "pygments_lexer": "ipython3",
   "version": "3.8.3"
  }
 },
 "nbformat": 4,
 "nbformat_minor": 5
}
