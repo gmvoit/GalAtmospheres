{
 "cells": [
  {
   "cell_type": "code",
   "execution_count": 11,
   "metadata": {},
   "outputs": [],
   "source": [
    "# import libraries\n",
    "import numpy as np\n",
    "import matplotlib.pyplot as plt\n",
    "%matplotlib inline\n",
    "import seaborn as sns\n",
    "import scipy.integrate as integrate\n",
    "import scipy.special as special\n",
    "import math\n",
    "from matplotlib.colors import ListedColormap"
   ]
  },
  {
   "cell_type": "code",
   "execution_count": 12,
   "metadata": {},
   "outputs": [],
   "source": [
    "# Tb can be calculated through Tb_mass\n",
    "#def Tb(rb = 250, Mb = 1e12*1.989e+30): # mass is in kg\n",
    "#    k = 1.38e-23*(3.24078e-20)**2 # boltzmann constant in W/(kpc^2*K)\n",
    "#    mmp = 1.0e-27 # mean mass per particle\n",
    "#    G = 6.67e-11*(1/3.24078e-20)**3 #kpc^3/kg/s^2\n",
    "#    vc = (G*Mb/rb)**(1/2)\n",
    "#    T = mmp*vc**2/(2*k)\n",
    "#    return T"
   ]
  },
  {
   "cell_type": "code",
   "execution_count": 13,
   "metadata": {},
   "outputs": [],
   "source": [
    "def T_phi_iso(r, rb = 250, **kwargs):\n",
    "    return r/r "
   ]
  },
  {
   "cell_type": "code",
   "execution_count": 14,
   "metadata": {},
   "outputs": [],
   "source": [
    "# Tphi for nfw potential\n",
    "def T_phi_nfw_pot(r,rb = 1, c = 10, **kwargs):\n",
    "    # defining variables\n",
    "    rs = rb/c\n",
    "    M_nfw_b = math.log(1+c) - c/(1+c)\n",
    "    # create x array of shape and proportional to r\n",
    "    x = c*r\n",
    "    # create array with with shape of x\n",
    "    M_nfw = np.array(x)\n",
    "    # assign value to each element in M_nfw\n",
    "    for i in range(0,len(x)):\n",
    "        M_nfw[i] = math.log(1+x[i])-x[i]/(1+x[i])\n",
    "    # assigning variable name\n",
    "    new = (M_nfw/r)/(M_nfw_b/rb)\n",
    "    # find maximum value\n",
    "    maxM = np.max((M_nfw/r)/(M_nfw_b/rb))\n",
    "    # if the value reaches the max, the function is kept at max\n",
    "    for i in reversed(range(len(new))):\n",
    "        if new[i-1] < new[i] :\n",
    "            # reassign element values\n",
    "            new[i-1] = new[i]\n",
    "    # return adjusted array\n",
    "    return new"
   ]
  },
  {
   "cell_type": "code",
   "execution_count": 15,
   "metadata": {},
   "outputs": [],
   "source": [
    "# Tphi for nfw profile\n",
    "def T_phi_nfw(r,rb = 1, c = 10, **kwargs):\n",
    "    rs = rb/c\n",
    "    x = c*r\n",
    "    M_nfw_b = math.log(1+c) - c/(1+c)\n",
    "    M_nfw = np.array(x)\n",
    "    for i in range(0,len(x)):\n",
    "        M_nfw[i] = math.log(1+x[i])-x[i]/(1+x[i])\n",
    "    # f_Tx = math.log(1+x)/x - 1/(1+x) which is basically M_nfw/x\n",
    "    # f_Tc = math.log(1+c)/c - 1/(1+c)\n",
    "    # f_T is prop to M_nfw/r is prop to Tphi\n",
    "    # T_phi = T_phi(rb)*f_Tx/f_Tc\n",
    "    return (M_nfw/r)/(M_nfw_b/rb)"
   ]
  },
  {
   "cell_type": "code",
   "execution_count": 16,
   "metadata": {},
   "outputs": [],
   "source": [
    "def Tb_mass(Mb = 12, **kwargs): # unit management\n",
    "    Mb = (10**Mb)*1.989e30\n",
    "    G = 6.67e-11*(1/3.086e+19)**3 #kpc^3/kg/s^2\n",
    "    k = 1.38e-23*(1/3.086e+19)**2 # boltzmann constant in W/(kpc^2*K)\n",
    "    H0 = 70 * 3.24078e-20 #km/s/Mpc * Mpc/km\n",
    "    Hz = H0 # could be a parameter\n",
    "    mmp = 1.0e-27 # mean mass per particle\n",
    "    #Mb = 4*np.pi*rb**3/3*200*3*Hz**2/(8*np.pi*G) # rearange for rb\n",
    "    p = 3*Hz**2/(8*np.pi*G)\n",
    "    rb = (3*Mb/(4*np.pi*200*p))**(1/3) #kpc\n",
    "    vc = (G*Mb/rb)**(1/2)#*1/3.24078e-17 # km/s\n",
    "    #Mb = (4*np.pi*rb**3/3*200*p)\n",
    "    #Tphi = G*Mb*mmp/(2*k*rb) # k is boltzmann's constant, rb?\n",
    "    Tb = vc**2 * mmp/(2*k)\n",
    "    # for milky way solar masses, temp should be 10^6K\n",
    "    return Tb"
   ]
  },
  {
   "cell_type": "code",
   "execution_count": 17,
   "metadata": {},
   "outputs": [
    {
     "data": {
      "text/plain": [
       "0.7552598348880519"
      ]
     },
     "execution_count": 17,
     "metadata": {},
     "output_type": "execute_result"
    }
   ],
   "source": [
    "Tb_mass()/1e6"
   ]
  },
  {
   "cell_type": "code",
   "execution_count": 18,
   "metadata": {},
   "outputs": [
    {
     "data": {
      "text/plain": [
       "1000000.0"
      ]
     },
     "execution_count": 18,
     "metadata": {},
     "output_type": "execute_result"
    }
   ],
   "source": [
    "1e6"
   ]
  },
  {
   "cell_type": "code",
   "execution_count": 23,
   "metadata": {},
   "outputs": [],
   "source": [
    "# imports the necessary library/modules for the graph with sliders\n",
    "from ipywidgets import interact,interact_manual\n",
    "\n",
    "# integration\n",
    "def integral_function(pwr = 4/3, Mb = 12, T_phi = T_phi_nfw, Tb = Tb_mass, **kwargs):\n",
    "    # constants\n",
    "    n = 1000 # number of intervals\n",
    "    rmin = 0.01\n",
    "    rb = 1\n",
    "    rmax = rb\n",
    "    # changes made here\n",
    "    k = 1.38e-23*(1/3.086e+19)**2 # boltzmann constant in W/(kpc^2*K)\n",
    "    mmp = 1.0e-27 # mean mass per particle\n",
    "    \n",
    "    #constant lambda\n",
    "    lam = 1.8e-23 # erg cm^3 s^-1\n",
    "    \n",
    "\n",
    "    ln_rmin = math.log(rmin)\n",
    "    ln_r = np.zeros((n))\n",
    "\n",
    "    for i in range(0, n):\n",
    "        ln_r[i] = ln_rmin+i/(n-1)*math.log(rmax/rmin)\n",
    "    ln_r\n",
    "    r = np.exp(ln_r)\n",
    "\n",
    "    dln_r = math.log(rmax/rmin)/(n-1)\n",
    "    \n",
    "    #change was made here\n",
    "    vc2 = 2*k*T_phi(r)/mmp\n",
    "    vcmax = (vc2)**(1/2)/0.83\n",
    "    v200 = vcmax/200 # 200 km/s\n",
    "    Kbase = 39*v200**2*(r/rb)**1.1\n",
    "    nipn = 1/2\n",
    "    Kpre = (2*mmp)**(1/3)*((10/3)*(2*nipn)*lam)**(2/3)*r**(2/3)\n",
    "    K = Kbase + Kpre\n",
    "    \n",
    "    # defines Tphi based on default/selection\n",
    "    Tphi = T_phi(r) *Tb_mass(Mb)\n",
    "    #Tb = np.max(T_phi(r))\n",
    "        \n",
    "    d_dlnr = -4/5*Tphi/(K**(3/5)) \n",
    "\n",
    "    # initialize arrays\n",
    "    Ti_Ki = np.zeros((n))\n",
    "    \n",
    "    # This is where the issue was\n",
    "    Ti_Ki[-1] = 4/(3*pwr)*Tphi[-1]   #Tb/Krb**(3/5)\n",
    "    print(Ti_Ki[-1])\n",
    "    for j in range(1,n):\n",
    "        i = n-j\n",
    "\n",
    "\n",
    "        Ti_Ki[i-1] = Ti_Ki[i] - d_dlnr[i]*dln_r\n",
    "\n",
    "    Tr = Ti_Ki*(K**(3/5))\n",
    "\n",
    "    sns.set()\n",
    "\n",
    "    cmap1 = 'PiYG' #ListedColormap(sns.color_palette(\"ch:s=.25,rot=-.25\"))\n",
    "    cmap2 = 'magma' #ListedColormap(sns.color_palette(\"ch:s=-.2,r=.6\"))\n",
    "    \n",
    "    colors = Tr\n",
    "    colors2 = Tphi\n",
    "    # change\n",
    "    plt.scatter(r,Tr, c = colors, cmap=cmap1, label = 'Tr')\n",
    "    plt.colorbar()\n",
    "    plt.scatter(r,Tphi, c = colors2, cmap=cmap2, label = 'Tphi')\n",
    "    plt.colorbar()\n",
    "    plt.semilogx()\n",
    "    plt.legend()\n",
    "    \n",
    "    \n",
    "    #plt.show()\n",
    "    plt.xlabel('ln_r')\n",
    "\n",
    "    plt.ylabel('Tr')\n",
    "    \n",
    "    # I DID IT IM PROUD\n",
    "    \n",
    "    #if np.any(Tr) < 2 :\n",
    "    #    plt.ylim((0,2)) \n",
    "        \n",
    "\n",
    "    sns.set_context('notebook')"
   ]
  },
  {
   "cell_type": "code",
   "execution_count": 24,
   "metadata": {},
   "outputs": [
    {
     "data": {
      "application/vnd.jupyter.widget-view+json": {
       "model_id": "e6a31ddd17664399b53efcf127731218",
       "version_major": 2,
       "version_minor": 0
      },
      "text/plain": [
       "interactive(children=(FloatSlider(value=1.3333333333333333, description='pwr', max=2.0, min=0.01, step=0.01), …"
      ]
     },
     "metadata": {},
     "output_type": "display_data"
    }
   ],
   "source": [
    "interact(integral_function, pwr=(0.01,2,0.01), Mb=(11,16,1), T_phi = [(\"NFW\", T_phi_nfw), (\"ISO\", T_phi_iso), (\"NFW Potential\", T_phi_nfw_pot)], Tb = [(\"MASS\", Tb_mass)]);"
   ]
  },
  {
   "cell_type": "code",
   "execution_count": null,
   "metadata": {},
   "outputs": [],
   "source": []
  }
 ],
 "metadata": {
  "kernelspec": {
   "display_name": "Python 3",
   "language": "python",
   "name": "python3"
  },
  "language_info": {
   "codemirror_mode": {
    "name": "ipython",
    "version": 3
   },
   "file_extension": ".py",
   "mimetype": "text/x-python",
   "name": "python",
   "nbconvert_exporter": "python",
   "pygments_lexer": "ipython3",
   "version": "3.8.3"
  }
 },
 "nbformat": 4,
 "nbformat_minor": 4
}
